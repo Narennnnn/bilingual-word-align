{
  "nbformat": 4,
  "nbformat_minor": 0,
  "metadata": {
    "colab": {
      "provenance": [],
      "authorship_tag": "ABX9TyMVj08V4NGDheZQGfuesInO",
      "include_colab_link": true
    },
    "kernelspec": {
      "name": "python3",
      "display_name": "Python 3"
    },
    "language_info": {
      "name": "python"
    }
  },
  "cells": [
    {
      "cell_type": "markdown",
      "metadata": {
        "id": "view-in-github",
        "colab_type": "text"
      },
      "source": [
        "<a href=\"https://colab.research.google.com/github/Narennnnn/bilingual-word-align/blob/main/CrossLingualWordEmbeddingsModel.ipynb\" target=\"_parent\"><img src=\"https://colab.research.google.com/assets/colab-badge.svg\" alt=\"Open In Colab\"/></a>"
      ]
    },
    {
      "cell_type": "code",
      "execution_count": 1,
      "metadata": {
        "colab": {
          "base_uri": "https://localhost:8080/"
        },
        "id": "ERWgpoYOOApg",
        "outputId": "d6d5e4ce-0b6c-4b96-dab3-09bfe00b791a"
      },
      "outputs": [
        {
          "output_type": "stream",
          "name": "stdout",
          "text": [
            "Requirement already satisfied: gensim in /usr/local/lib/python3.10/dist-packages (4.3.3)\n",
            "Requirement already satisfied: numpy in /usr/local/lib/python3.10/dist-packages (1.26.4)\n",
            "Requirement already satisfied: scipy in /usr/local/lib/python3.10/dist-packages (1.13.1)\n",
            "Requirement already satisfied: scikit-learn in /usr/local/lib/python3.10/dist-packages (1.5.2)\n",
            "Collecting faiss-cpu\n",
            "  Downloading faiss_cpu-1.8.0.post1-cp310-cp310-manylinux_2_17_x86_64.manylinux2014_x86_64.whl.metadata (3.7 kB)\n",
            "Requirement already satisfied: smart-open>=1.8.1 in /usr/local/lib/python3.10/dist-packages (from gensim) (7.0.4)\n",
            "Requirement already satisfied: joblib>=1.2.0 in /usr/local/lib/python3.10/dist-packages (from scikit-learn) (1.4.2)\n",
            "Requirement already satisfied: threadpoolctl>=3.1.0 in /usr/local/lib/python3.10/dist-packages (from scikit-learn) (3.5.0)\n",
            "Requirement already satisfied: packaging in /usr/local/lib/python3.10/dist-packages (from faiss-cpu) (24.1)\n",
            "Requirement already satisfied: wrapt in /usr/local/lib/python3.10/dist-packages (from smart-open>=1.8.1->gensim) (1.16.0)\n",
            "Downloading faiss_cpu-1.8.0.post1-cp310-cp310-manylinux_2_17_x86_64.manylinux2014_x86_64.whl (27.0 MB)\n",
            "\u001b[2K   \u001b[90m━━━━━━━━━━━━━━━━━━━━━━━━━━━━━━━━━━━━━━━━\u001b[0m \u001b[32m27.0/27.0 MB\u001b[0m \u001b[31m20.4 MB/s\u001b[0m eta \u001b[36m0:00:00\u001b[0m\n",
            "\u001b[?25hInstalling collected packages: faiss-cpu\n",
            "Successfully installed faiss-cpu-1.8.0.post1\n"
          ]
        }
      ],
      "source": [
        "# Required Libraries Installation\n",
        "!pip install gensim numpy scipy scikit-learn faiss-cpu\n",
        "\n",
        "import numpy as np\n",
        "from scipy.linalg import orthogonal_procrustes\n",
        "from sklearn.metrics.pairwise import cosine_similarity\n",
        "import faiss\n",
        "import multiprocessing as mp"
      ]
    },
    {
      "cell_type": "code",
      "source": [
        "\n",
        "# ======================================\n",
        "# Step 1: Data Preparation\n",
        "# ======================================\n",
        "\n",
        "# Download pre-trained FastText embeddings (English and Hindi)\n",
        "!wget https://dl.fbaipublicfiles.com/fasttext/vectors-wiki/wiki.en.vec\n",
        "!wget https://dl.fbaipublicfiles.com/fasttext/vectors-wiki/wiki.hi.vec\n",
        "\n",
        "def load_vectors_optimized(filename, limit=100000, dtype=np.float16):\n",
        "    \"\"\"\n",
        "    Load pre-trained FastText embeddings with memory optimization.\n",
        "\n",
        "    :param filename: Path to the FastText vector file\n",
        "    :param limit: Limit the number of vectors to load (default is 100,000)\n",
        "    :param dtype: Data type for storing vectors (default is np.float16)\n",
        "    :return: Dictionary with words as keys and vectors as values\n",
        "    \"\"\"\n",
        "    vectors = {}\n",
        "    with open(filename, 'r', encoding='utf-8') as f:\n",
        "        next(f)  # Skip the first line (header)\n",
        "        for i, line in enumerate(f):\n",
        "            if i >= limit:\n",
        "                break\n",
        "            values = line.rstrip().split(' ')\n",
        "            word = values[0]\n",
        "            vector = np.asarray(values[1:], dtype=dtype)\n",
        "            vectors[word] = vector\n",
        "    return vectors\n",
        "\n",
        "# Load English and Hindi embeddings\n",
        "en_vectors = load_vectors_optimized('wiki.en.vec')\n",
        "hi_vectors = load_vectors_optimized('wiki.hi.vec')"
      ],
      "metadata": {
        "colab": {
          "base_uri": "https://localhost:8080/"
        },
        "id": "fcwaCUHaOPbt",
        "outputId": "ea7747f8-b1a9-43c6-c037-e471fa69d4d4"
      },
      "execution_count": 2,
      "outputs": [
        {
          "output_type": "stream",
          "name": "stdout",
          "text": [
            "--2024-09-25 08:07:59--  https://dl.fbaipublicfiles.com/fasttext/vectors-wiki/wiki.en.vec\n",
            "Resolving dl.fbaipublicfiles.com (dl.fbaipublicfiles.com)... 18.238.136.8, 18.238.136.37, 18.238.136.120, ...\n",
            "Connecting to dl.fbaipublicfiles.com (dl.fbaipublicfiles.com)|18.238.136.8|:443... connected.\n",
            "HTTP request sent, awaiting response... 200 OK\n",
            "Length: 6597238061 (6.1G) [binary/octet-stream]\n",
            "Saving to: ‘wiki.en.vec’\n",
            "\n",
            "wiki.en.vec         100%[===================>]   6.14G  98.6MB/s    in 67s     \n",
            "\n",
            "2024-09-25 08:09:06 (94.0 MB/s) - ‘wiki.en.vec’ saved [6597238061/6597238061]\n",
            "\n",
            "--2024-09-25 08:09:07--  https://dl.fbaipublicfiles.com/fasttext/vectors-wiki/wiki.hi.vec\n",
            "Resolving dl.fbaipublicfiles.com (dl.fbaipublicfiles.com)... 18.238.136.120, 18.238.136.52, 18.238.136.8, ...\n",
            "Connecting to dl.fbaipublicfiles.com (dl.fbaipublicfiles.com)|18.238.136.120|:443... connected.\n",
            "HTTP request sent, awaiting response... 200 OK\n",
            "Length: 416644179 (397M) [binary/octet-stream]\n",
            "Saving to: ‘wiki.hi.vec’\n",
            "\n",
            "wiki.hi.vec         100%[===================>] 397.34M   109MB/s    in 4.5s    \n",
            "\n",
            "2024-09-25 08:09:11 (88.4 MB/s) - ‘wiki.hi.vec’ saved [416644179/416644179]\n",
            "\n"
          ]
        }
      ]
    },
    {
      "cell_type": "code",
      "source": [
        "# Download MUSE bilingual lexicon\n",
        "!wget https://dl.fbaipublicfiles.com/arrival/dictionaries/en-hi.txt\n",
        "\n",
        "def load_lexicon(filename, src_vectors, tgt_vectors):\n",
        "    \"\"\"\n",
        "    Load the bilingual lexicon, ensuring words exist in both source and target vectors.\n",
        "\n",
        "    :param filename: Path to the lexicon file\n",
        "    :param src_vectors: Source language vector dictionary\n",
        "    :param tgt_vectors: Target language vector dictionary\n",
        "    :return: List of tuples representing bilingual lexicon pairs\n",
        "    \"\"\"\n",
        "    lexicon = []\n",
        "    with open(filename, 'r', encoding='utf-8') as f:\n",
        "        for line in f:\n",
        "            src_word, tgt_word = line.strip().split()\n",
        "            if src_word in src_vectors and tgt_word in tgt_vectors:\n",
        "                lexicon.append((src_word, tgt_word))\n",
        "    return lexicon\n",
        "\n",
        "bilingual_lexicon = load_lexicon('en-hi.txt', en_vectors, hi_vectors)"
      ],
      "metadata": {
        "colab": {
          "base_uri": "https://localhost:8080/"
        },
        "id": "XZWVuo3fOXEW",
        "outputId": "1c8c2a8a-d729-4e94-af15-f17196b81c38"
      },
      "execution_count": 3,
      "outputs": [
        {
          "output_type": "stream",
          "name": "stdout",
          "text": [
            "--2024-09-25 08:15:19--  https://dl.fbaipublicfiles.com/arrival/dictionaries/en-hi.txt\n",
            "Resolving dl.fbaipublicfiles.com (dl.fbaipublicfiles.com)... 18.238.136.52, 18.238.136.8, 18.238.136.120, ...\n",
            "Connecting to dl.fbaipublicfiles.com (dl.fbaipublicfiles.com)|18.238.136.52|:443... connected.\n",
            "HTTP request sent, awaiting response... 200 OK\n",
            "Length: 930856 (909K) [text/x-c++]\n",
            "Saving to: ‘en-hi.txt’\n",
            "\n",
            "en-hi.txt           100%[===================>] 909.04K  --.-KB/s    in 0.06s   \n",
            "\n",
            "2024-09-25 08:15:20 (14.6 MB/s) - ‘en-hi.txt’ saved [930856/930856]\n",
            "\n"
          ]
        }
      ]
    },
    {
      "cell_type": "code",
      "source": [
        "# ======================================\n",
        "# Step 2: Embedding Alignment using Procrustes Method\n",
        "# ======================================\n",
        "\n",
        "def align_embeddings(src_vectors, tgt_vectors, lexicon):\n",
        "    \"\"\"\n",
        "    Perform embedding alignment using the Orthogonal Procrustes method.\n",
        "\n",
        "    :param src_vectors: Source language vector dictionary\n",
        "    :param tgt_vectors: Target language vector dictionary\n",
        "    :param lexicon: Bilingual lexicon list\n",
        "    :return: Alignment matrix (W)\n",
        "    \"\"\"\n",
        "    src_mat = np.array([src_vectors[word] for word, _ in lexicon])\n",
        "    tgt_mat = np.array([tgt_vectors[word] for _, word in lexicon])\n",
        "    W, _ = orthogonal_procrustes(src_mat, tgt_mat)\n",
        "    return W\n",
        "\n",
        "alignment_matrix = align_embeddings(en_vectors, hi_vectors, bilingual_lexicon)"
      ],
      "metadata": {
        "id": "wjg4Q41rP_Z3"
      },
      "execution_count": 4,
      "outputs": []
    },
    {
      "cell_type": "code",
      "source": [
        "# ======================================\n",
        "# Step 3: Fast Nearest Neighbor Search with Faiss\n",
        "# ======================================\n",
        "\n",
        "def build_faiss_index(vectors):\n",
        "    \"\"\"\n",
        "    Build a FAISS index for fast nearest neighbor search.\n",
        "\n",
        "    :param vectors: Vector dictionary\n",
        "    :return: FAISS index and list of target words\n",
        "    \"\"\"\n",
        "    dimension = len(next(iter(vectors.values())))\n",
        "    index = faiss.IndexFlatIP(dimension)  # Inner product for cosine similarity\n",
        "    vector_list = np.array(list(vectors.values())).astype('float32')\n",
        "    faiss.normalize_L2(vector_list)  # Normalize vectors for cosine similarity\n",
        "    index.add(vector_list)\n",
        "    return index, list(vectors.keys())\n",
        "\n",
        "tgt_index, tgt_words = build_faiss_index(hi_vectors)\n",
        "\n",
        "def translate_word_faiss(word, src_vectors, alignment_matrix, index, tgt_words, k=5):\n",
        "    \"\"\"\n",
        "    Translate a word using the FAISS index and return the top-k translations.\n",
        "\n",
        "    :param word: Source word to be translated\n",
        "    :param src_vectors: Source language vector dictionary\n",
        "    :param alignment_matrix: Alignment matrix from Procrustes method\n",
        "    :param index: FAISS index object\n",
        "    :param tgt_words: List of target words\n",
        "    :param k: Number of top translations to return (default is 5)\n",
        "    :return: List of top-k translated words\n",
        "    \"\"\"\n",
        "    if word not in src_vectors:\n",
        "        return []\n",
        "    src_vec = src_vectors[word].astype('float32')\n",
        "    aligned_vec = np.dot(src_vec, alignment_matrix)\n",
        "    faiss.normalize_L2(aligned_vec.reshape(1, -1))\n",
        "    _, indices = index.search(aligned_vec.reshape(1, -1), k)\n",
        "    return [tgt_words[i] for i in indices[0]]"
      ],
      "metadata": {
        "id": "8oJXZg_7QU8P"
      },
      "execution_count": 5,
      "outputs": []
    },
    {
      "cell_type": "code",
      "source": [
        "# ======================================\n",
        "# Step 4: Evaluation\n",
        "# ======================================\n",
        "\n",
        "# Download MUSE test dictionary\n",
        "!wget https://dl.fbaipublicfiles.com/arrival/dictionaries/en-hi.5000-6500.txt\n",
        "test_lexicon = load_lexicon('en-hi.5000-6500.txt', en_vectors, hi_vectors)\n",
        "\n",
        "def evaluate_translation_faiss(test_lexicon, src_vectors, alignment_matrix, index, tgt_words):\n",
        "    \"\"\"\n",
        "    Evaluate the translation accuracy using the test lexicon.\n",
        "\n",
        "    :param test_lexicon: List of test bilingual lexicon pairs\n",
        "    :param src_vectors: Source language vector dictionary\n",
        "    :param alignment_matrix: Alignment matrix from Procrustes method\n",
        "    :param index: FAISS index object\n",
        "    :param tgt_words: List of target words\n",
        "    :return: Precision@1 and Precision@5 scores\n",
        "    \"\"\"\n",
        "    correct_1, correct_5, total = 0, 0, len(test_lexicon)\n",
        "\n",
        "    with mp.Pool(mp.cpu_count()) as pool:\n",
        "        results = pool.starmap(translate_word_faiss, [(src_word, src_vectors, alignment_matrix, index, tgt_words) for src_word, _ in test_lexicon])\n",
        "\n",
        "    for i, (src_word, tgt_word) in enumerate(test_lexicon):\n",
        "        translations = results[i]\n",
        "        if translations:\n",
        "            if translations[0] == tgt_word:\n",
        "                correct_1 += 1\n",
        "            if tgt_word in translations:\n",
        "                correct_5 += 1\n",
        "\n",
        "    precision_1 = correct_1 / total\n",
        "    precision_5 = correct_5 / total\n",
        "    return precision_1, precision_5\n",
        "\n",
        "# Evaluate the model\n",
        "precision_1, precision_5 = evaluate_translation_faiss(test_lexicon, en_vectors, alignment_matrix, tgt_index, tgt_words)\n",
        "print(f\"Precision@1: {precision_1:.4f}\")\n",
        "print(f\"Precision@5: {precision_5:.4f}\")"
      ],
      "metadata": {
        "colab": {
          "base_uri": "https://localhost:8080/"
        },
        "id": "o7FK4tA7QaGz",
        "outputId": "4b91ed4b-3a36-49bd-a125-7f8fa04e8d67"
      },
      "execution_count": 6,
      "outputs": [
        {
          "output_type": "stream",
          "name": "stdout",
          "text": [
            "--2024-09-25 08:17:24--  https://dl.fbaipublicfiles.com/arrival/dictionaries/en-hi.5000-6500.txt\n",
            "Resolving dl.fbaipublicfiles.com (dl.fbaipublicfiles.com)... 18.238.136.37, 18.238.136.52, 18.238.136.120, ...\n",
            "Connecting to dl.fbaipublicfiles.com (dl.fbaipublicfiles.com)|18.238.136.37|:443... connected.\n",
            "HTTP request sent, awaiting response... 200 OK\n",
            "Length: 52464 (51K) [text/plain]\n",
            "Saving to: ‘en-hi.5000-6500.txt’\n",
            "\n",
            "\ren-hi.5000-6500.txt   0%[                    ]       0  --.-KB/s               \ren-hi.5000-6500.txt 100%[===================>]  51.23K  --.-KB/s    in 0.01s   \n",
            "\n",
            "2024-09-25 08:17:25 (4.38 MB/s) - ‘en-hi.5000-6500.txt’ saved [52464/52464]\n",
            "\n",
            "Precision@1: 0.2569\n",
            "Precision@5: 0.4583\n"
          ]
        }
      ]
    },
    {
      "cell_type": "code",
      "source": [
        "\n",
        "# ======================================\n",
        "# Analyze Cosine Similarities\n",
        "# ======================================\n",
        "\n",
        "def analyze_cosine_similarities(word_pairs, src_vectors, tgt_vectors, alignment_matrix):\n",
        "    \"\"\"\n",
        "    Analyze cosine similarities between aligned source vectors and target vectors.\n",
        "\n",
        "    :param word_pairs: List of word pairs to analyze\n",
        "    :param src_vectors: Source language vector dictionary\n",
        "    :param tgt_vectors: Target language vector dictionary\n",
        "    :param alignment_matrix: Alignment matrix from Procrustes method\n",
        "    :return: List of tuples containing word pairs and their cosine similarity\n",
        "    \"\"\"\n",
        "    results = []\n",
        "    for src_word, tgt_word in word_pairs:\n",
        "        if src_word in src_vectors and tgt_word in tgt_vectors:\n",
        "            src_vec = src_vectors[src_word]\n",
        "            tgt_vec = tgt_vectors[tgt_word]\n",
        "            aligned_src_vec = np.dot(src_vec, alignment_matrix)\n",
        "            similarity = cosine_similarity([aligned_src_vec], [tgt_vec])[0][0]\n",
        "            results.append((src_word, tgt_word, similarity))\n",
        "    return results\n",
        "\n",
        "word_pairs = [\n",
        "    ('man', 'आदमी'),\n",
        "    ('woman', 'औरत'),\n",
        "    ('king', 'राजा'),\n",
        "    ('queen', 'रानी'),\n",
        "    ('cat', 'बिल्ली'),\n",
        "    ('dog', 'कुत्ता')\n",
        "]\n",
        "\n",
        "similarity_results = analyze_cosine_similarities(word_pairs, en_vectors, hi_vectors, alignment_matrix)\n",
        "for src_word, tgt_word, similarity in similarity_results:\n",
        "    print(f\"{src_word} - {tgt_word}: {similarity:.4f}\")\n"
      ],
      "metadata": {
        "colab": {
          "base_uri": "https://localhost:8080/"
        },
        "id": "XI95Y7uURCO8",
        "outputId": "71603060-6293-4578-b760-906212c8cc87"
      },
      "execution_count": 7,
      "outputs": [
        {
          "output_type": "stream",
          "name": "stdout",
          "text": [
            "man - आदमी: 0.5275\n",
            "woman - औरत: 0.5964\n",
            "king - राजा: 0.6152\n",
            "queen - रानी: 0.5915\n",
            "cat - बिल्ली: 0.5074\n",
            "dog - कुत्ता: 0.6636\n"
          ]
        }
      ]
    },
    {
      "cell_type": "code",
      "source": [
        "# ======================================\n",
        "# Ablation Study\n",
        "# ======================================\n",
        "\n",
        "def ablation_study(src_vectors, tgt_vectors, full_lexicon, test_lexicon, sizes=[5000, 10000, 20000]):\n",
        "    \"\"\"\n",
        "    Perform an ablation study to assess performance with varying lexicon sizes.\n",
        "\n",
        "    :param src_vectors: Source language vector dictionary\n",
        "    :param tgt_vectors: Target language vector dictionary\n",
        "    :param full_lexicon: Full bilingual lexicon list\n",
        "    :param test_lexicon: Test bilingual lexicon list\n",
        "    :param sizes: List of lexicon sizes to evaluate\n",
        "    :return: List of tuples containing lexicon size, precision@1, and precision@5\n",
        "    \"\"\"\n",
        "    results = []\n",
        "    for size in sizes:\n",
        "        # Select a subset of the bilingual lexicon based on the current size\n",
        "        train_lexicon = full_lexicon[:size]\n",
        "\n",
        "        # Perform embedding alignment using the Procrustes method\n",
        "        alignment_matrix = align_embeddings(src_vectors, tgt_vectors, train_lexicon)\n",
        "\n",
        "        # Evaluate the translation accuracy using FAISS\n",
        "        precision_1, precision_5 = evaluate_translation_faiss(test_lexicon, src_vectors, alignment_matrix, tgt_index, tgt_words)\n",
        "\n",
        "        # Store the results for the current lexicon size\n",
        "        results.append((size, precision_1, precision_5))\n",
        "\n",
        "        print(f\"Lexicon size: {size}, Precision@1: {precision_1:.4f}, Precision@5: {precision_5:.4f}\")\n",
        "\n",
        "    return results\n",
        "\n",
        "# Run the ablation study\n",
        "ablation_results = ablation_study(en_vectors, hi_vectors, bilingual_lexicon, test_lexicon)\n",
        "\n",
        "# Display the results\n",
        "for size, p1, p5 in ablation_results:\n",
        "    print(f\"Lexicon size: {size}, Precision@1: {p1:.4f}, Precision@5: {p5:.4f}\")\n"
      ],
      "metadata": {
        "colab": {
          "base_uri": "https://localhost:8080/"
        },
        "id": "leC4-DL9RvSG",
        "outputId": "761406fd-5581-4505-ee38-ecab35a0a63e"
      },
      "execution_count": 10,
      "outputs": [
        {
          "output_type": "stream",
          "name": "stdout",
          "text": [
            "Lexicon size: 5000, Precision@1: 0.1740, Precision@5: 0.3469\n",
            "Lexicon size: 10000, Precision@1: 0.2823, Precision@5: 0.4715\n",
            "Lexicon size: 20000, Precision@1: 0.2701, Precision@5: 0.4730\n",
            "Lexicon size: 5000, Precision@1: 0.1740, Precision@5: 0.3469\n",
            "Lexicon size: 10000, Precision@1: 0.2823, Precision@5: 0.4715\n",
            "Lexicon size: 20000, Precision@1: 0.2701, Precision@5: 0.4730\n"
          ]
        }
      ]
    },
    {
      "cell_type": "code",
      "source": [
        "import matplotlib.pyplot as plt\n",
        "\n",
        "# Data\n",
        "lexicon_sizes = [5000, 10000, 20000]\n",
        "precision_1 = [0.1740, 0.2823, 0.2701]\n",
        "precision_5 = [0.3469, 0.4715, 0.4730]\n",
        "\n",
        "# Plotting\n",
        "plt.figure(figsize=(10, 6))\n",
        "plt.plot(lexicon_sizes, precision_1, marker='o', label='Precision @1')\n",
        "plt.plot(lexicon_sizes, precision_5, marker='o', label='Precision @5')\n",
        "\n",
        "plt.title('Precision vs Lexicon Size')\n",
        "plt.xlabel('Lexicon Size')\n",
        "plt.ylabel('Precision')\n",
        "plt.xticks(lexicon_sizes)\n",
        "plt.ylim(0, 1)\n",
        "plt.grid()\n",
        "plt.legend()\n",
        "plt.show()\n"
      ],
      "metadata": {
        "colab": {
          "base_uri": "https://localhost:8080/",
          "height": 564
        },
        "id": "LG6z2PU6Te7_",
        "outputId": "43ab50a2-874a-420d-a131-f3cd018ae45d"
      },
      "execution_count": 11,
      "outputs": [
        {
          "output_type": "display_data",
          "data": {
            "text/plain": [
              "<Figure size 1000x600 with 1 Axes>"
            ],
            "image/png": "[encoded data removed]"
          },
          "metadata": {}
        }
      ]
    },
    {
      "cell_type": "code",
      "source": [
        "def translate_example(word, src_vectors, alignment_matrix, index, tgt_words, k=2):\n",
        "    \"\"\"\n",
        "    Translate a single word from English to Hindi using the trained model.\n",
        "\n",
        "    :param word: The English word to be translated\n",
        "    :param src_vectors: Source language vector dictionary (English)\n",
        "    :param alignment_matrix: Alignment matrix from Procrustes method\n",
        "    :param index: FAISS index object for target language (Hindi)\n",
        "    :param tgt_words: List of target words (Hindi)\n",
        "    :param k: Number of top translations to return\n",
        "    :return: List of top-k translated words in Hindi\n",
        "    \"\"\"\n",
        "    translations = translate_word_faiss(word, src_vectors, alignment_matrix, index, tgt_words, k)\n",
        "    return translations\n",
        "\n",
        "test_words = [\n",
        "    'woman', 'king', 'queen', 'cat', 'dog',\n",
        "    'child', 'house', 'car', 'food', 'water',\n",
        "    'friend', 'family', 'love', 'work', 'school',\n",
        "    'sun', 'moon', 'star', 'book', 'music',\n",
        "    'happy', 'sad', 'big', 'small', 'fast',\n",
        "    'slow', 'good', 'bad','man', 'person', 'people',\n",
        "    'girl', 'boy', 'time', 'day', 'night', 'hand'\n",
        "]\n",
        "for word in test_words:\n",
        "    translations = translate_example(word, en_vectors, alignment_matrix, tgt_index, tgt_words)\n",
        "    print(f\"Top translations for '{word}': {translations}\")\n",
        "\n"
      ],
      "metadata": {
        "colab": {
          "base_uri": "https://localhost:8080/"
        },
        "id": "xb4GybrUVJxR",
        "outputId": "51eedace-12e0-459d-e50f-015af62ce961"
      },
      "execution_count": 22,
      "outputs": [
        {
          "output_type": "stream",
          "name": "stdout",
          "text": [
            "Top translations for 'woman': ['महिला', 'औरत']\n",
            "Top translations for 'king': ['राजा', 'षष्टम्']\n",
            "Top translations for 'queen': ['रानी', 'महारानी']\n",
            "Top translations for 'cat': ['सोनकुत्ता', 'बिल्ली']\n",
            "Top translations for 'dog': ['कुत्ते', 'कुत्ता']\n",
            "Top translations for 'child': ['बच्चे', 'बच्चें']\n",
            "Top translations for 'house': ['हाउस', 'पेंटहाउस']\n",
            "Top translations for 'car': ['कार', 'मोटरसाइकिलें']\n",
            "Top translations for 'food': ['खाद्य', 'भोजन']\n",
            "Top translations for 'water': ['पानी', 'जल']\n",
            "Top translations for 'friend': ['दोस्त', 'दोस्तो']\n",
            "Top translations for 'family': ['परिवार', 'सपरिवार']\n",
            "Top translations for 'love': ['प्यार', 'प्रेम']\n",
            "Top translations for 'work': ['कार्य', 'काम']\n",
            "Top translations for 'school': ['स्कूल', 'स्कूल,']\n",
            "Top translations for 'sun': ['सूर्य', 'सूर्यपथ']\n",
            "Top translations for 'moon': ['चंद्रमा', 'चन्द्रमा']\n",
            "Top translations for 'star': ['तारे', 'द्वितारे']\n",
            "Top translations for 'book': ['पुस्तक', 'पुस्तक।']\n",
            "Top translations for 'music': ['संगीत', 'संगीत।']\n",
            "Top translations for 'happy': ['खुश', 'प्रसन्नचित']\n",
            "Top translations for 'sad': ['दुखदाई', 'दुखदायी']\n",
            "Top translations for 'big': ['बॉवी', 'बड़ी']\n",
            "Top translations for 'small': ['छोटे', 'छोटा']\n",
            "Top translations for 'fast': ['तेज', 'तेज़']\n",
            "Top translations for 'slow': ['धीमा', 'तेज']\n",
            "Top translations for 'good': ['अच्छा।', 'अच्छा']\n",
            "Top translations for 'bad': ['खराब', 'खराबे']\n",
            "Top translations for 'man': ['आदमी', 'व्यक्ति']\n",
            "Top translations for 'person': ['व्यक्ति', 'व्यक्ति।']\n",
            "Top translations for 'people': ['लोगों', 'लोग']\n",
            "Top translations for 'girl': ['लड़की', 'लड़कपन']\n",
            "Top translations for 'boy': ['लड़का', 'लड़के']\n",
            "Top translations for 'time': ['समय', 'पहले']\n",
            "Top translations for 'day': ['दिन', 'दिवस']\n",
            "Top translations for 'night': ['रात', 'रात्रिभोज']\n",
            "Top translations for 'hand': ['हाथ', 'अँगूठा']\n"
          ]
        }
      ]
    }
  ]
}